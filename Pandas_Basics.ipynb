{
  "nbformat": 4,
  "nbformat_minor": 0,
  "metadata": {
    "kernelspec": {
      "display_name": "Python 3",
      "language": "python",
      "name": "python3"
    },
    "language_info": {
      "codemirror_mode": {
        "name": "ipython",
        "version": 3
      },
      "file_extension": ".py",
      "mimetype": "text/x-python",
      "name": "python",
      "nbconvert_exporter": "python",
      "pygments_lexer": "ipython3",
      "version": "3.7.4"
    },
    "toc": {
      "base_numbering": 1,
      "nav_menu": {},
      "number_sections": true,
      "sideBar": true,
      "skip_h1_title": true,
      "title_cell": "Table of Contents",
      "title_sidebar": "Contents",
      "toc_cell": true,
      "toc_position": {
        "height": "calc(100% - 180px)",
        "left": "10px",
        "top": "150px",
        "width": "165px"
      },
      "toc_section_display": true,
      "toc_window_display": true
    },
    "varInspector": {
      "cols": {
        "lenName": 16,
        "lenType": 16,
        "lenVar": 40
      },
      "kernels_config": {
        "python": {
          "delete_cmd_postfix": "",
          "delete_cmd_prefix": "del ",
          "library": "var_list.py",
          "varRefreshCmd": "print(var_dic_list())"
        },
        "r": {
          "delete_cmd_postfix": ") ",
          "delete_cmd_prefix": "rm(",
          "library": "var_list.r",
          "varRefreshCmd": "cat(var_dic_list()) "
        }
      },
      "types_to_exclude": [
        "module",
        "function",
        "builtin_function_or_method",
        "instance",
        "_Feature"
      ],
      "window_display": false
    },
    "colab": {
      "provenance": [],
      "include_colab_link": true
    }
  },
  "cells": [
    {
      "cell_type": "markdown",
      "metadata": {
        "id": "view-in-github",
        "colab_type": "text"
      },
      "source": [
        "<a href=\"https://colab.research.google.com/github/Criell/Data/blob/master/Pandas_Basics.ipynb\" target=\"_parent\"><img src=\"https://colab.research.google.com/assets/colab-badge.svg\" alt=\"Open In Colab\"/></a>"
      ]
    },
    {
      "cell_type": "markdown",
      "metadata": {
        "toc": true,
        "id": "cPnz5fneZoyf"
      },
      "source": [
        "<h1>Table of Contents<span class=\"tocSkip\"></span></h1>\n",
        "<div class=\"toc\"><ul class=\"toc-item\"></ul></div>"
      ]
    },
    {
      "cell_type": "code",
      "metadata": {
        "id": "fGT60srMaygd",
        "colab": {
          "base_uri": "https://localhost:8080/",
          "height": 34
        },
        "outputId": "3fe7009f-4936-4613-ffe1-827bd536fc1b"
      },
      "source": [
        "# upload dataset\n",
        "from google.colab import drive\n",
        "drive.mount('/content/drive')\n",
        "path = \"/content/drive/My Drive/Data/Lina1/\""
      ],
      "execution_count": null,
      "outputs": [
        {
          "output_type": "stream",
          "text": [
            "Drive already mounted at /content/drive; to attempt to forcibly remount, call drive.mount(\"/content/drive\", force_remount=True).\n"
          ],
          "name": "stdout"
        }
      ]
    },
    {
      "cell_type": "markdown",
      "metadata": {
        "id": "ui0HjSouZoyh"
      },
      "source": [
        "\n",
        "# Pandas Basics"
      ]
    },
    {
      "cell_type": "markdown",
      "metadata": {
        "id": "RUBnqA4rZoyj"
      },
      "source": [
        "Dataset contiene lista de películas. Fichero `filmdeathcounts.csv`."
      ]
    },
    {
      "cell_type": "code",
      "metadata": {
        "scrolled": true,
        "id": "krYStTPJZoyl",
        "colab": {
          "base_uri": "https://localhost:8080/",
          "height": 306
        },
        "outputId": "80c07444-c16a-45bf-edb8-2bf3dddae2cf"
      },
      "source": [
        "import pandas as pd\n",
        "df = pd.read_csv(path + \"filmdeathcounts.csv\")\n",
        "print(df.info(), '\\n')"
      ],
      "execution_count": null,
      "outputs": [
        {
          "output_type": "stream",
          "text": [
            "<class 'pandas.core.frame.DataFrame'>\n",
            "RangeIndex: 545 entries, 0 to 544\n",
            "Data columns (total 8 columns):\n",
            " #   Column          Non-Null Count  Dtype  \n",
            "---  ------          --------------  -----  \n",
            " 0   Film            545 non-null    object \n",
            " 1   Year            545 non-null    int64  \n",
            " 2   Body_Count      545 non-null    int64  \n",
            " 3   MPAA_Rating     545 non-null    object \n",
            " 4   Genre           545 non-null    object \n",
            " 5   Director        545 non-null    object \n",
            " 6   Length_Minutes  545 non-null    int64  \n",
            " 7   IMDB_Rating     545 non-null    float64\n",
            "dtypes: float64(1), int64(3), object(4)\n",
            "memory usage: 34.2+ KB\n",
            "None \n",
            "\n"
          ],
          "name": "stdout"
        }
      ]
    },
    {
      "cell_type": "markdown",
      "metadata": {
        "id": "bPF2dSrlZoyq"
      },
      "source": [
        "**Ejercicio 1:** Muestra un dataframe con los 10 films con menos muertes, y su número de muertes, ordenados de menos a más."
      ]
    },
    {
      "cell_type": "code",
      "metadata": {
        "id": "vApsvgVIZoyr",
        "colab": {
          "base_uri": "https://localhost:8080/",
          "height": 359
        },
        "outputId": "ae149973-e275-443f-951e-65e5f3e264d8"
      },
      "source": [
        "df1 = df.loc[:, ['Film', 'Year', 'Body_Count', 'Length_Minutes']]\n",
        "menos_muertes = df1.sort_values(by=['Body_Count'])\n",
        "menos_muertes = menos_muertes.iloc[:10,:].set_index('Film').reset_index()\n",
        "menos_muertes"
      ],
      "execution_count": null,
      "outputs": [
        {
          "output_type": "execute_result",
          "data": {
            "text/html": [
              "<div>\n",
              "<style scoped>\n",
              "    .dataframe tbody tr th:only-of-type {\n",
              "        vertical-align: middle;\n",
              "    }\n",
              "\n",
              "    .dataframe tbody tr th {\n",
              "        vertical-align: top;\n",
              "    }\n",
              "\n",
              "    .dataframe thead th {\n",
              "        text-align: right;\n",
              "    }\n",
              "</style>\n",
              "<table border=\"1\" class=\"dataframe\">\n",
              "  <thead>\n",
              "    <tr style=\"text-align: right;\">\n",
              "      <th></th>\n",
              "      <th>Film</th>\n",
              "      <th>Year</th>\n",
              "      <th>Body_Count</th>\n",
              "      <th>Length_Minutes</th>\n",
              "    </tr>\n",
              "  </thead>\n",
              "  <tbody>\n",
              "    <tr>\n",
              "      <th>0</th>\n",
              "      <td>Alien</td>\n",
              "      <td>1979</td>\n",
              "      <td>1</td>\n",
              "      <td>117</td>\n",
              "    </tr>\n",
              "    <tr>\n",
              "      <th>1</th>\n",
              "      <td>8MM</td>\n",
              "      <td>1999</td>\n",
              "      <td>1</td>\n",
              "      <td>123</td>\n",
              "    </tr>\n",
              "    <tr>\n",
              "      <th>2</th>\n",
              "      <td>The Yards</td>\n",
              "      <td>2000</td>\n",
              "      <td>2</td>\n",
              "      <td>115</td>\n",
              "    </tr>\n",
              "    <tr>\n",
              "      <th>3</th>\n",
              "      <td>To Die For</td>\n",
              "      <td>1995</td>\n",
              "      <td>2</td>\n",
              "      <td>106</td>\n",
              "    </tr>\n",
              "    <tr>\n",
              "      <th>4</th>\n",
              "      <td>Zodiac</td>\n",
              "      <td>2007</td>\n",
              "      <td>3</td>\n",
              "      <td>157</td>\n",
              "    </tr>\n",
              "    <tr>\n",
              "      <th>5</th>\n",
              "      <td>Mean Machine</td>\n",
              "      <td>2001</td>\n",
              "      <td>3</td>\n",
              "      <td>99</td>\n",
              "    </tr>\n",
              "    <tr>\n",
              "      <th>6</th>\n",
              "      <td>Donnie Darko</td>\n",
              "      <td>2001</td>\n",
              "      <td>3</td>\n",
              "      <td>113</td>\n",
              "    </tr>\n",
              "    <tr>\n",
              "      <th>7</th>\n",
              "      <td>Kill Bill: Vol. 2</td>\n",
              "      <td>2004</td>\n",
              "      <td>3</td>\n",
              "      <td>137</td>\n",
              "    </tr>\n",
              "    <tr>\n",
              "      <th>8</th>\n",
              "      <td>The Phantom of the Opera</td>\n",
              "      <td>2004</td>\n",
              "      <td>3</td>\n",
              "      <td>143</td>\n",
              "    </tr>\n",
              "    <tr>\n",
              "      <th>9</th>\n",
              "      <td>Barton Fink</td>\n",
              "      <td>1991</td>\n",
              "      <td>3</td>\n",
              "      <td>116</td>\n",
              "    </tr>\n",
              "  </tbody>\n",
              "</table>\n",
              "</div>"
            ],
            "text/plain": [
              "                       Film  Year  Body_Count  Length_Minutes\n",
              "0                     Alien  1979           1             117\n",
              "1                       8MM  1999           1             123\n",
              "2                 The Yards  2000           2             115\n",
              "3                To Die For  1995           2             106\n",
              "4                    Zodiac  2007           3             157\n",
              "5              Mean Machine  2001           3              99\n",
              "6              Donnie Darko  2001           3             113\n",
              "7         Kill Bill: Vol. 2  2004           3             137\n",
              "8  The Phantom of the Opera  2004           3             143\n",
              "9               Barton Fink  1991           3             116"
            ]
          },
          "metadata": {
            "tags": []
          },
          "execution_count": 3
        }
      ]
    },
    {
      "cell_type": "markdown",
      "metadata": {
        "id": "ZOXMnQJqZoyv"
      },
      "source": [
        "**Ejercicio 2:** Encuentra el film con el mayor número de muertes."
      ]
    },
    {
      "cell_type": "code",
      "metadata": {
        "id": "t51hyRDnZoyw",
        "colab": {
          "base_uri": "https://localhost:8080/",
          "height": 119
        },
        "outputId": "3ed2d35a-7d70-42af-9fa8-b34eaf0f1aa5"
      },
      "source": [
        "mayor_muertes = df1.sort_values(by=['Body_Count'], ascending = False).iloc[0,:]\n",
        "print(\"FILM CON MAYOR # MUERTES\")\n",
        "mayor_muertes"
      ],
      "execution_count": null,
      "outputs": [
        {
          "output_type": "stream",
          "text": [
            "FILM CON MAYOR # MUERTES\n"
          ],
          "name": "stdout"
        },
        {
          "output_type": "execute_result",
          "data": {
            "text/plain": [
              "Film              Lord of the Rings: Return of the King\n",
              "Year                                               2003\n",
              "Body_Count                                          836\n",
              "Length_Minutes                                      201\n",
              "Name: 241, dtype: object"
            ]
          },
          "metadata": {
            "tags": []
          },
          "execution_count": 4
        }
      ]
    },
    {
      "cell_type": "markdown",
      "metadata": {
        "id": "X_V0LJfVZoy1"
      },
      "source": [
        "**Ejercicio 3:** Esta pregunta equivaldría a \"¿cuál es el film más violento?\". Si no, ¿cuál es? "
      ]
    },
    {
      "cell_type": "code",
      "metadata": {
        "id": "atxdwC-ZZoy2",
        "colab": {
          "base_uri": "https://localhost:8080/",
          "height": 136
        },
        "outputId": "42336125-9408-4fc9-a0e9-40a3531284bf"
      },
      "source": [
        "df1['Killers_Per_Minute'] = df1['Body_Count'] / df1['Length_Minutes']\n",
        "print(\"FILM MAS VIOLENTO\")\n",
        "result = df1.sort_values(by=['Killers_Per_Minute'], ascending = False).iloc[0,:]\n",
        "result"
      ],
      "execution_count": null,
      "outputs": [
        {
          "output_type": "stream",
          "text": [
            "FILM MAS VIOLENTO\n"
          ],
          "name": "stdout"
        },
        {
          "output_type": "execute_result",
          "data": {
            "text/plain": [
              "Film                      300\n",
              "Year                     2007\n",
              "Body_Count                600\n",
              "Length_Minutes            117\n",
              "Killers_Per_Minute    5.12821\n",
              "Name: 4, dtype: object"
            ]
          },
          "metadata": {
            "tags": []
          },
          "execution_count": 5
        }
      ]
    },
    {
      "cell_type": "markdown",
      "metadata": {
        "id": "oFGQlIMWZoy6"
      },
      "source": [
        "Para los siguientes ejercicios contamos con otro CSV, `tmdb_5000_movies.csv`, con más películas y más información sobre las mismas."
      ]
    },
    {
      "cell_type": "markdown",
      "metadata": {
        "id": "duVb2zTDZoy7"
      },
      "source": [
        "**Ejercicio 4:** Usando el anterior dataset, ¿qué porcentaje de películas está por encima de la media global en términos de beneficio? Redondea a dos decimales."
      ]
    },
    {
      "cell_type": "code",
      "metadata": {
        "id": "QTSkIZocZoy7",
        "colab": {
          "base_uri": "https://localhost:8080/",
          "height": 357
        },
        "outputId": "14a4a78b-5626-465b-e8ed-c3e861ede686"
      },
      "source": [
        "from statistics import mean\n",
        "\n",
        "pd.options.display.float_format = '{:,.2f}'.format\n",
        "df = pd.read_csv(path + \"tmdb_5000_movies.csv\")\n",
        "\n",
        "df1 = df.loc[:, ['original_title', 'revenue', 'budget']]\n",
        "df1['budget'] = df1['budget'].astype('float32')\n",
        "df1['revenue'] = df1['revenue'].astype('float32')\n",
        "df1['beneficio'] = (df1['revenue'] - df1['budget'] ).fillna(0).astype('float32')\n",
        "\n",
        "mean_movies = float(mean(df1['beneficio']))\n",
        "print(\"MEDIA GLOBAL: $ {:,.2f}\".format(round (mean_movies,2)), '\\n\\n')\n",
        "\n",
        "#df1 = df1.where(df1['beneficio'] > mean_movies)\n",
        "df1 = df1.sort_values(by=['beneficio'], ascending = False).set_index('original_title')\n",
        "df1 = df1[df1['beneficio'] > mean_movies]\n",
        "df1 = df1.dropna()\n",
        "\n",
        "print(\"FILMS ENCIMA DE LA MEDIA GLOBAL: \", '\\n')\n",
        "\n",
        "print(df1)"
      ],
      "execution_count": null,
      "outputs": [
        {
          "output_type": "stream",
          "text": [
            "MEDIA GLOBAL: $ 53,215,598.84 \n",
            "\n",
            "\n",
            "FILMS ENCIMA DE LA MEDIA GLOBAL:  \n",
            "\n",
            "                              revenue         budget        beneficio\n",
            "original_title                                                       \n",
            "Avatar               2,787,965,184.00 237,000,000.00 2,550,965,248.00\n",
            "Titanic              1,845,034,240.00 200,000,000.00 1,645,034,240.00\n",
            "Jurassic World       1,513,528,832.00 150,000,000.00 1,363,528,832.00\n",
            "Furious 7            1,506,249,344.00 190,000,000.00 1,316,249,344.00\n",
            "The Avengers         1,519,557,888.00 220,000,000.00 1,299,557,888.00\n",
            "...                               ...            ...              ...\n",
            "The Gift                58,978,652.00   5,000,000.00    53,978,652.00\n",
            "Bad Santa               76,488,888.00  23,000,000.00    53,488,888.00\n",
            "Chariots of Fire        58,972,904.00   5,500,000.00    53,472,904.00\n",
            "The Kite Runner         73,276,048.00  20,000,000.00    53,276,048.00\n",
            "(500) Days of Summer    60,722,736.00   7,500,000.00    53,222,736.00\n",
            "\n",
            "[1224 rows x 3 columns]\n"
          ],
          "name": "stdout"
        }
      ]
    }
  ]
}