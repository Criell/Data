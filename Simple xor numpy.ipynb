{
  "nbformat": 4,
  "nbformat_minor": 0,
  "metadata": {
    "colab": {
      "provenance": [],
      "include_colab_link": true
    },
    "kernelspec": {
      "name": "python3",
      "display_name": "Python 3"
    }
  },
  "cells": [
    {
      "cell_type": "markdown",
      "metadata": {
        "id": "view-in-github",
        "colab_type": "text"
      },
      "source": [
        "<a href=\"https://colab.research.google.com/github/Criell/Data/blob/master/Simple%20xor%20numpy.ipynb\" target=\"_parent\"><img src=\"https://colab.research.google.com/assets/colab-badge.svg\" alt=\"Open In Colab\"/></a>"
      ]
    },
    {
      "cell_type": "markdown",
      "metadata": {
        "id": "UOJjJbTit68G"
      },
      "source": [
        "**SIMPLE XOR**\n",
        "\n",
        " ![The XOR Truth Table](https://cdn-images-1.medium.com/max/1600/1*Xp1D32f-br8RCng5gjZMCA.gif)\n",
        "\n",
        "XOR is a problem that is not linearly separable, it means we need a hidden layer in our network. \n",
        "\n",
        "The network we are going implement below will use sigmoid function as activation and we are going to use Mean Squared Error as the loss. \n",
        "\n",
        "\n",
        "**Network design**\n",
        "\n",
        "The network has three layers:\n",
        "\n",
        "\n",
        "*  Input Layer (Taking two input A,B and a bias): This has a size of 3\n",
        "*  Hidden Layer (you can change the number of neuron in this layer)\n",
        "* Output Layer: This has a size of 1 as we are generating a single number for every input\n"
      ]
    },
    {
      "cell_type": "code",
      "metadata": {
        "id": "N69feef7r3m1"
      },
      "source": [
        "import numpy as np\n",
        "import matplotlib.pyplot as plt\n",
        "\n",
        "\n",
        "def sigmoid(x):\n",
        "    return 1.0/(1+ np.exp(-x))\n",
        "\n",
        "def sigmoid_derivative(x):\n",
        "    return sigmoid(x) * (1.0 - sigmoid(x))\n",
        "  \n",
        "class XORnet:\n",
        "    def __init__(self, x, y, h_size):\n",
        "      \n",
        "        # Inputs: \n",
        "        # x : the inputs\n",
        "        # y : the groundtruth outputs\n",
        "        # h_size : the number of nuerons in the hidden layer\n",
        "        \n",
        "        # we store x and y locally so we do not have to pass them everytime\n",
        "        self.input      = x\n",
        "        self.y          = y\n",
        "        \n",
        "        # W1 has a size of (3 x h_size)\n",
        "        self.W1   = np.random.rand(self.input.shape[1],h_size) \n",
        "        \n",
        "        #W2 has a size of (h_size x 1)\n",
        "        self.W2   = np.random.rand(h_size,1) \n",
        "        \n",
        "        self.learning_rate = 0.05\n",
        "        self.bias = np.random.rand(1)\n",
        "        self.output     = np.zeros(self.y.shape) # This is y_hat (the output)\n",
        "\n",
        "    def forward(self):\n",
        "      \n",
        "        # TODO: \n",
        "        # implement the forward function that takes through each layer and\n",
        "        # the corresponding activation function, this will generate the \n",
        "        # output that should be stored in self.output\n",
        "        xw = np.dot(self.input, self.W1)   \n",
        "        self.layer1 = sigmoid(xw)\n",
        "        \n",
        "        lw = np.dot(self.layer1, self.W2)\n",
        "        self.output = sigmoid(lw)\n",
        "     \n",
        "        return np.dot((self.y - self.output).T, (self.y - self.output))\n",
        "      \n",
        "    def backward(self):\n",
        "        # TODO: \n",
        "        # apply the chain rule to find derivative of the loss function \n",
        "        # with respect to W2 and W1\n",
        "\n",
        "        #d_W2 = 0 # Replace with correct derivative of the loss wrt W2\n",
        "        #d_W1 = 0 # Replace with correct derivative of the loss wrt W1\n",
        "        \n",
        "        out_error = 2*(self.y - self.output)\n",
        "        out_delta = out_error * sigmoid_derivative(self.output) \n",
        "        d_W2 = np.dot(self.layer1.T, out_delta)\n",
        "        \n",
        "        error = np.dot(out_delta, self.W2.T)\n",
        "        delta = error * sigmoid_derivative(self.layer1)\n",
        "        d_W1 = np.dot(self.input.T,  delta)\n",
        "\n",
        "        # we update the weights with the computed derivatives\n",
        "        # You do not need to edit this part\n",
        "        self.W2 +=  d_W2\n",
        "        self.W1 +=  d_W1\n",
        "        \n"
      ],
      "execution_count": null,
      "outputs": []
    },
    {
      "cell_type": "code",
      "metadata": {
        "id": "L1rITnNSpq08",
        "colab": {
          "base_uri": "https://localhost:8080/",
          "height": 347
        },
        "outputId": "d7f22a3a-be56-4701-fef6-cc44cbc48a4d"
      },
      "source": [
        "num_iterations = 1500\n",
        "num_hidden_neurons = 3\n",
        "\n",
        "# The four possible combination of two bits go as input,\n",
        "# along with a bias which is always set to 1\n",
        "# The input is organised as [A, B, bias] \n",
        "# Each row represents a sample\n",
        "\n",
        "X = np.array([[0,0,1],\n",
        "              [0,1,1],\n",
        "              [1,0,1],\n",
        "              [1,1,1.]]) \n",
        "\n",
        "# The corresponding output for each case\n",
        "\n",
        "Y = np.array([[0],\n",
        "              [1],\n",
        "              [1],\n",
        "              [0.]])\n",
        "\n",
        "# This defines our XORnet and \n",
        "net = XORnet(X,Y,num_hidden_neurons)\n",
        "\n",
        "# We store losses after each epoch here \n",
        "losses = np.zeros((num_iterations,1))\n",
        "\n",
        "for i in range(num_iterations):\n",
        "    loss = net.forward()\n",
        "    losses[i] = loss\n",
        "    net.backward()\n",
        "\n",
        "print(\"Expected Output: \\n\",  (Y.T))\n",
        "print(\"Current output :\\n\", net.output.T)\n",
        "\n",
        "plt.plot(losses)\n",
        "plt.xlabel('epoch')\n",
        "plt.ylabel('loss')\n",
        "plt.show()"
      ],
      "execution_count": null,
      "outputs": [
        {
          "output_type": "stream",
          "text": [
            "Expected Output: \n",
            " [[0. 1. 1. 0.]]\n",
            "Current output :\n",
            " [[0.45704953 0.51365615 0.51220846 0.52925429]]\n"
          ],
          "name": "stdout"
        },
        {
          "output_type": "display_data",
          "data": {
            "image/png": "[encoded data removed]",
            "text/plain": [
              "<Figure size 432x288 with 1 Axes>"
            ]
          },
          "metadata": {
            "tags": [],
            "needs_background": "light"
          }
        }
      ]
    },
    {
      "cell_type": "code",
      "metadata": {
        "id": "shAeCCPeBIFe",
        "colab": {
          "base_uri": "https://localhost:8080/",
          "height": 351
        },
        "outputId": "096754f4-a73f-4dfc-cdd2-4ba06eeee10e"
      },
      "source": [
        "# We store losses after each epoch here \n",
        "losses = np.zeros((num_iterations,1))\n",
        "\n",
        "for i in range(num_iterations):\n",
        "    loss = net.forward()\n",
        "    losses[i] = loss\n",
        "    net.backward()\n",
        "\n",
        "print(\"Expected Output: \\n\",  (Y.T))\n",
        "print(\"Current output :\\n\", net.output.T)\n",
        "\n",
        "plt.plot(losses)\n",
        "plt.xlabel('epoch')\n",
        "plt.ylabel('loss')\n",
        "plt.show()"
      ],
      "execution_count": null,
      "outputs": [
        {
          "output_type": "stream",
          "text": [
            "Expected Output: \n",
            " [[0. 1. 1. 0.]]\n",
            "Current output :\n",
            " [[0.44932722 0.52705658 0.52640914 0.50762674]]\n"
          ],
          "name": "stdout"
        },
        {
          "output_type": "display_data",
          "data": {
            "image/png": "[encoded data removed]",
            "text/plain": [
              "<Figure size 432x288 with 1 Axes>"
            ]
          },
          "metadata": {
            "tags": [],
            "needs_background": "light"
          }
        }
      ]
    },
    {
      "cell_type": "code",
      "metadata": {
        "id": "zaZ8eMuUBL2k",
        "colab": {
          "base_uri": "https://localhost:8080/",
          "height": 347
        },
        "outputId": "adedf8dc-44ac-48b6-ded4-a97d931ddd4a"
      },
      "source": [
        "# We store losses after each epoch here \n",
        "losses = np.zeros((num_iterations,1))\n",
        "\n",
        "for i in range(num_iterations):\n",
        "    loss = net.forward()\n",
        "    losses[i] = loss\n",
        "    net.backward()\n",
        "\n",
        "print(\"Expected Output: \\n\",  (Y.T))\n",
        "print(\"Current output :\\n\", net.output.T)\n",
        "\n",
        "plt.plot(losses)\n",
        "plt.xlabel('epoch')\n",
        "plt.ylabel('loss')\n",
        "plt.show()"
      ],
      "execution_count": null,
      "outputs": [
        {
          "output_type": "stream",
          "text": [
            "Expected Output: \n",
            " [[0. 1. 1. 0.]]\n",
            "Current output :\n",
            " [[0.49603573 0.50917368 0.50861685 0.52277207]]\n"
          ],
          "name": "stdout"
        },
        {
          "output_type": "display_data",
          "data": {
            "image/png": "[encoded data removed]",
            "text/plain": [
              "<Figure size 432x288 with 1 Axes>"
            ]
          },
          "metadata": {
            "tags": [],
            "needs_background": "light"
          }
        }
      ]
    },
    {
      "cell_type": "code",
      "metadata": {
        "id": "5r-lWLBTr8CQ",
        "colab": {
          "base_uri": "https://localhost:8080/",
          "height": 34
        },
        "outputId": "fb34f944-55b3-4e3d-b68b-c18a395f5e63"
      },
      "source": [
        "print (net)"
      ],
      "execution_count": null,
      "outputs": [
        {
          "output_type": "stream",
          "text": [
            "<__main__.XORnet object at 0x7f402d613d68>\n"
          ],
          "name": "stdout"
        }
      ]
    }
  ]
}