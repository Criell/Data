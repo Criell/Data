{
  "nbformat": 4,
  "nbformat_minor": 0,
  "metadata": {
    "kernelspec": {
      "display_name": "Python 3",
      "language": "python",
      "name": "python3"
    },
    "language_info": {
      "codemirror_mode": {
        "name": "ipython",
        "version": 3
      },
      "file_extension": ".py",
      "mimetype": "text/x-python",
      "name": "python",
      "nbconvert_exporter": "python",
      "pygments_lexer": "ipython3",
      "version": "3.6.5"
    },
    "colab": {
      "provenance": [],
      "include_colab_link": true
    }
  },
  "cells": [
    {
      "cell_type": "markdown",
      "metadata": {
        "id": "view-in-github",
        "colab_type": "text"
      },
      "source": [
        "<a href=\"https://colab.research.google.com/github/Criell/Data/blob/master/cooking.ipynb\" target=\"_parent\"><img src=\"https://colab.research.google.com/assets/colab-badge.svg\" alt=\"Open In Colab\"/></a>"
      ]
    },
    {
      "cell_type": "code",
      "metadata": {
        "id": "8wp99L-0Sppx",
        "colab": {
          "base_uri": "https://localhost:8080/",
          "height": 734
        },
        "outputId": "ea9839be-d1b8-47df-d478-1c774c3aef5d"
      },
      "source": [
        "# load python packages\n",
        "import numpy as np\n",
        "import scipy as sp\n",
        "import pandas as pd\n",
        "import matplotlib\n",
        "import matplotlib.pyplot as plt\n",
        "import matplotlib\n",
        "import IPython\n",
        "import sklearn\n",
        "import pprint\n",
        "import json\n",
        "from pprint import pprint\n",
        "\n",
        "# import sklearn packages\n",
        "from sklearn.feature_extraction.text import TfidfVectorizer\n",
        "from sklearn.preprocessing import LabelEncoder\n",
        "\n",
        "\n",
        "# import keras packages\n",
        "import keras\n",
        "import tensorflow as tf\n",
        "from keras.models import Sequential\n",
        "from keras.layers import Dense, Flatten\n",
        "from keras import backend as K\n",
        "\n",
        "# upload dataset\n",
        "!wget https://github.com/Criell/Data/blob/master/02_Cooking/train.json?raw=true\n",
        "!wget https://github.com/Criell/Data/blob/master/02_Cooking/test.json?raw=true\n",
        "\n",
        "!mv train.json\\?raw\\=true train.json\n",
        "!mv test.json\\?raw\\=true test.json"
      ],
      "execution_count": null,
      "outputs": [
        {
          "output_type": "stream",
          "text": [
            "Using TensorFlow backend.\n"
          ],
          "name": "stderr"
        },
        {
          "output_type": "stream",
          "text": [
            "--2020-07-10 15:26:07--  https://github.com/Criell/Data/blob/master/02_Cooking/train.json?raw=true\n",
            "Resolving github.com (github.com)... 140.82.112.3\n",
            "Connecting to github.com (github.com)|140.82.112.3|:443... connected.\n",
            "HTTP request sent, awaiting response... 302 Found\n",
            "Location: https://github.com/Criell/Data/raw/master/02_Cooking/train.json [following]\n",
            "--2020-07-10 15:26:08--  https://github.com/Criell/Data/raw/master/02_Cooking/train.json\n",
            "Reusing existing connection to github.com:443.\n",
            "HTTP request sent, awaiting response... 302 Found\n",
            "Location: https://raw.githubusercontent.com/Criell/Data/master/02_Cooking/train.json [following]\n",
            "--2020-07-10 15:26:08--  https://raw.githubusercontent.com/Criell/Data/master/02_Cooking/train.json\n",
            "Resolving raw.githubusercontent.com (raw.githubusercontent.com)... 151.101.0.133, 151.101.64.133, 151.101.128.133, ...\n",
            "Connecting to raw.githubusercontent.com (raw.githubusercontent.com)|151.101.0.133|:443... connected.\n",
            "HTTP request sent, awaiting response... 200 OK\n",
            "Length: 12415067 (12M) [text/plain]\n",
            "Saving to: ‘train.json?raw=true’\n",
            "\n",
            "train.json?raw=true 100%[===================>]  11.84M  22.0MB/s    in 0.5s    \n",
            "\n",
            "2020-07-10 15:26:09 (22.0 MB/s) - ‘train.json?raw=true’ saved [12415067/12415067]\n",
            "\n",
            "--2020-07-10 15:26:10--  https://github.com/Criell/Data/blob/master/02_Cooking/test.json?raw=true\n",
            "Resolving github.com (github.com)... 140.82.114.3\n",
            "Connecting to github.com (github.com)|140.82.114.3|:443... connected.\n",
            "HTTP request sent, awaiting response... 302 Found\n",
            "Location: https://github.com/Criell/Data/raw/master/02_Cooking/test.json [following]\n",
            "--2020-07-10 15:26:11--  https://github.com/Criell/Data/raw/master/02_Cooking/test.json\n",
            "Reusing existing connection to github.com:443.\n",
            "HTTP request sent, awaiting response... 302 Found\n",
            "Location: https://raw.githubusercontent.com/Criell/Data/master/02_Cooking/test.json [following]\n",
            "--2020-07-10 15:26:11--  https://raw.githubusercontent.com/Criell/Data/master/02_Cooking/test.json\n",
            "Resolving raw.githubusercontent.com (raw.githubusercontent.com)... 151.101.0.133, 151.101.64.133, 151.101.128.133, ...\n",
            "Connecting to raw.githubusercontent.com (raw.githubusercontent.com)|151.101.0.133|:443... connected.\n",
            "HTTP request sent, awaiting response... 200 OK\n",
            "Length: 2844086 (2.7M) [text/plain]\n",
            "Saving to: ‘test.json?raw=true’\n",
            "\n",
            "test.json?raw=true  100%[===================>]   2.71M  14.8MB/s    in 0.2s    \n",
            "\n",
            "2020-07-10 15:26:11 (14.8 MB/s) - ‘test.json?raw=true’ saved [2844086/2844086]\n",
            "\n"
          ],
          "name": "stdout"
        }
      ]
    },
    {
      "cell_type": "code",
      "metadata": {
        "id": "w3TVhnHNSpp3"
      },
      "source": [
        "# reading json\n",
        "with open('train.json') as f:\n",
        "    trainJson = json.load(f)\n",
        "    \n",
        "with open('test.json') as f:\n",
        "    testJson = json.load(f)\n",
        "\n",
        "trainTxt = [\" \".join(doc['ingredients']).lower() for doc in trainJson]\n",
        "testTxt = [\" \".join(doc['ingredients']).lower() for doc in testJson]  \n",
        "\n",
        "labelsTxt = [doc['cuisine'] for doc in trainJson]\n",
        "\n",
        "\n",
        "# dimensionality transformations\n",
        "vec = TfidfVectorizer(binary=True)\n",
        "train = vec.fit_transform(trainTxt)\n",
        "test = vec.transform(testTxt)  \n",
        "enc = LabelEncoder()\n",
        "label = enc.fit_transform(labelsTxt)"
      ],
      "execution_count": null,
      "outputs": []
    },
    {
      "cell_type": "code",
      "metadata": {
        "id": "UUWF7DwrSpp8"
      },
      "source": [
        "# type casting \n",
        "train = train.astype('float32')\n",
        "test = test.astype('float32')\n",
        "label = keras.utils.to_categorical(label)"
      ],
      "execution_count": null,
      "outputs": []
    },
    {
      "cell_type": "code",
      "metadata": {
        "id": "ZOcIaM24SpqB"
      },
      "source": [
        "# Model (3 layers with 1000 nodes)\n",
        "model = keras.Sequential()\n",
        "model.add(keras.layers.Dense(1000, \n",
        "                             kernel_initializer=keras.initializers.he_normal(seed=1), \n",
        "                             activation='relu', input_dim=3010))\n",
        "model.add(keras.layers.Dropout(0.81))\n",
        "model.add(keras.layers.Dense(1000, \n",
        "                             kernel_initializer=keras.initializers.he_normal(seed=2), \n",
        "                             activation='relu'))\n",
        "model.add(keras.layers.Dropout(0.81))\n",
        "model.add(keras.layers.Dense(20, \n",
        "                             kernel_initializer=keras.initializers.RandomNormal(mean=0.0, stddev=0.05, seed=4), \n",
        "                             activation='softmax'))"
      ],
      "execution_count": null,
      "outputs": []
    },
    {
      "cell_type": "code",
      "metadata": {
        "id": "pOKnFfixSpqG"
      },
      "source": [
        "# compile model\n",
        "model.compile(optimizer='adam',\n",
        "              loss='categorical_crossentropy',\n",
        "              metrics=['accuracy'])"
      ],
      "execution_count": null,
      "outputs": []
    },
    {
      "cell_type": "code",
      "metadata": {
        "id": "gUI5mgf8SpqK",
        "colab": {
          "base_uri": "https://localhost:8080/",
          "height": 1000
        },
        "outputId": "50c2725d-f7e8-43d4-e327-0aca6473ee36"
      },
      "source": [
        "# training\n",
        "history = model.fit(train, label, \n",
        "                    epochs=30, \n",
        "                    batch_size=512, \n",
        "                    validation_split=0.1)\n",
        "model.save_weights(\"model.h5\")"
      ],
      "execution_count": null,
      "outputs": [
        {
          "output_type": "stream",
          "text": [
            "Train on 35796 samples, validate on 3978 samples\n",
            "Epoch 1/30\n",
            "35796/35796 [==============================] - 16s 441us/step - loss: 2.1291 - accuracy: 0.3854 - val_loss: 1.3471 - val_accuracy: 0.6018\n",
            "Epoch 2/30\n",
            "35796/35796 [==============================] - 15s 431us/step - loss: 1.2552 - accuracy: 0.6335 - val_loss: 0.9312 - val_accuracy: 0.7185\n",
            "Epoch 3/30\n",
            "35796/35796 [==============================] - 15s 431us/step - loss: 1.0050 - accuracy: 0.7015 - val_loss: 0.8056 - val_accuracy: 0.7539\n",
            "Epoch 4/30\n",
            "35796/35796 [==============================] - 15s 429us/step - loss: 0.8824 - accuracy: 0.7383 - val_loss: 0.7402 - val_accuracy: 0.7760\n",
            "Epoch 5/30\n",
            "35796/35796 [==============================] - 15s 428us/step - loss: 0.7998 - accuracy: 0.7613 - val_loss: 0.7035 - val_accuracy: 0.7893\n",
            "Epoch 6/30\n",
            "35796/35796 [==============================] - 15s 428us/step - loss: 0.7382 - accuracy: 0.7798 - val_loss: 0.6831 - val_accuracy: 0.7936\n",
            "Epoch 7/30\n",
            "35796/35796 [==============================] - 15s 428us/step - loss: 0.6953 - accuracy: 0.7899 - val_loss: 0.6690 - val_accuracy: 0.7986\n",
            "Epoch 8/30\n",
            "35796/35796 [==============================] - 15s 428us/step - loss: 0.6609 - accuracy: 0.8024 - val_loss: 0.6580 - val_accuracy: 0.8054\n",
            "Epoch 9/30\n",
            "35796/35796 [==============================] - 15s 427us/step - loss: 0.6261 - accuracy: 0.8123 - val_loss: 0.6544 - val_accuracy: 0.8117\n",
            "Epoch 10/30\n",
            "35796/35796 [==============================] - 15s 429us/step - loss: 0.6003 - accuracy: 0.8189 - val_loss: 0.6484 - val_accuracy: 0.8127\n",
            "Epoch 11/30\n",
            "35796/35796 [==============================] - 16s 434us/step - loss: 0.5729 - accuracy: 0.8276 - val_loss: 0.6483 - val_accuracy: 0.8120\n",
            "Epoch 12/30\n",
            "35796/35796 [==============================] - 15s 432us/step - loss: 0.5528 - accuracy: 0.8315 - val_loss: 0.6477 - val_accuracy: 0.8105\n",
            "Epoch 13/30\n",
            "35796/35796 [==============================] - 15s 429us/step - loss: 0.5316 - accuracy: 0.8384 - val_loss: 0.6540 - val_accuracy: 0.8095\n",
            "Epoch 14/30\n",
            "35796/35796 [==============================] - 15s 427us/step - loss: 0.5119 - accuracy: 0.8462 - val_loss: 0.6515 - val_accuracy: 0.8092\n",
            "Epoch 15/30\n",
            "35796/35796 [==============================] - 15s 430us/step - loss: 0.4925 - accuracy: 0.8490 - val_loss: 0.6576 - val_accuracy: 0.8097\n",
            "Epoch 16/30\n",
            "35796/35796 [==============================] - 15s 429us/step - loss: 0.4739 - accuracy: 0.8562 - val_loss: 0.6602 - val_accuracy: 0.8107\n",
            "Epoch 17/30\n",
            "35796/35796 [==============================] - 15s 428us/step - loss: 0.4678 - accuracy: 0.8570 - val_loss: 0.6637 - val_accuracy: 0.8095\n",
            "Epoch 18/30\n",
            "35796/35796 [==============================] - 15s 429us/step - loss: 0.4437 - accuracy: 0.8617 - val_loss: 0.6696 - val_accuracy: 0.8112\n",
            "Epoch 19/30\n",
            "35796/35796 [==============================] - 15s 432us/step - loss: 0.4328 - accuracy: 0.8695 - val_loss: 0.6702 - val_accuracy: 0.8110\n",
            "Epoch 20/30\n",
            "35796/35796 [==============================] - 15s 428us/step - loss: 0.4132 - accuracy: 0.8723 - val_loss: 0.6817 - val_accuracy: 0.8120\n",
            "Epoch 21/30\n",
            "35796/35796 [==============================] - 15s 427us/step - loss: 0.4031 - accuracy: 0.8737 - val_loss: 0.6877 - val_accuracy: 0.8147\n",
            "Epoch 22/30\n",
            "35796/35796 [==============================] - 15s 430us/step - loss: 0.3924 - accuracy: 0.8766 - val_loss: 0.6848 - val_accuracy: 0.8150\n",
            "Epoch 23/30\n",
            "35796/35796 [==============================] - 15s 432us/step - loss: 0.3903 - accuracy: 0.8794 - val_loss: 0.6910 - val_accuracy: 0.8112\n",
            "Epoch 24/30\n",
            "35796/35796 [==============================] - 16s 433us/step - loss: 0.3688 - accuracy: 0.8846 - val_loss: 0.6938 - val_accuracy: 0.8132\n",
            "Epoch 25/30\n",
            "35796/35796 [==============================] - 16s 434us/step - loss: 0.3617 - accuracy: 0.8861 - val_loss: 0.7024 - val_accuracy: 0.8115\n",
            "Epoch 26/30\n",
            "35796/35796 [==============================] - 15s 433us/step - loss: 0.3493 - accuracy: 0.8896 - val_loss: 0.7042 - val_accuracy: 0.8130\n",
            "Epoch 27/30\n",
            "35796/35796 [==============================] - 15s 431us/step - loss: 0.3430 - accuracy: 0.8923 - val_loss: 0.7089 - val_accuracy: 0.8140\n",
            "Epoch 28/30\n",
            "35796/35796 [==============================] - 15s 431us/step - loss: 0.3323 - accuracy: 0.8968 - val_loss: 0.7151 - val_accuracy: 0.8142\n",
            "Epoch 29/30\n",
            "35796/35796 [==============================] - 15s 431us/step - loss: 0.3250 - accuracy: 0.8963 - val_loss: 0.7256 - val_accuracy: 0.8155\n",
            "Epoch 30/30\n",
            "35796/35796 [==============================] - 15s 431us/step - loss: 0.3158 - accuracy: 0.9011 - val_loss: 0.7262 - val_accuracy: 0.8135\n"
          ],
          "name": "stdout"
        }
      ]
    },
    {
      "cell_type": "code",
      "metadata": {
        "id": "hmzKB7G4SpqP",
        "colab": {
          "base_uri": "https://localhost:8080/",
          "height": 573
        },
        "outputId": "29a9dfbe-8338-45b7-823e-9e495a5dae87"
      },
      "source": [
        "# summarize history for accuracy\n",
        "plt.plot(history.history['accuracy'])\n",
        "plt.plot(history.history['val_accuracy'])\n",
        "plt.title('model accuracy')\n",
        "plt.ylabel('accuracy')\n",
        "plt.xlabel('epoch')\n",
        "plt.legend(['train', 'test'], loc='upper left')\n",
        "plt.show()\n",
        "# summarize history for loss\n",
        "plt.plot(history.history['loss'])\n",
        "plt.plot(history.history['val_loss'])\n",
        "plt.title('model loss')\n",
        "plt.ylabel('loss')\n",
        "plt.xlabel('epoch')\n",
        "plt.legend(['train', 'test'], loc='upper left')\n",
        "plt.show()"
      ],
      "execution_count": null,
      "outputs": [
        {
          "output_type": "display_data",
          "data": {
            "image/png": "[encoded data removed]",
            "text/plain": [
              "<Figure size 432x288 with 1 Axes>"
            ]
          },
          "metadata": {
            "tags": [],
            "needs_background": "light"
          }
        },
        {
          "output_type": "display_data",
          "data": {
            "image/png": "[encoded data removed]",
            "text/plain": [
              "<Figure size 432x288 with 1 Axes>"
            ]
          },
          "metadata": {
            "tags": [],
            "needs_background": "light"
          }
        }
      ]
    },
    {
      "cell_type": "code",
      "metadata": {
        "id": "UbF4d43tSpqU",
        "colab": {
          "base_uri": "https://localhost:8080/",
          "height": 51
        },
        "outputId": "4957da86-f4eb-443a-b4d5-fb701059a571"
      },
      "source": [
        "predictions_encoded = model.predict(test)\n",
        "predictions_encoded.shape\n",
        "predictions = enc.inverse_transform([np.argmax(pred) for pred in predictions_encoded])\n",
        "predictions"
      ],
      "execution_count": null,
      "outputs": [
        {
          "output_type": "execute_result",
          "data": {
            "text/plain": [
              "array(['british', 'southern_us', 'italian', ..., 'italian', 'southern_us',\n",
              "       'mexican'], dtype='<U12')"
            ]
          },
          "metadata": {
            "tags": []
          },
          "execution_count": 8
        }
      ]
    },
    {
      "cell_type": "code",
      "metadata": {
        "id": "Z2udx_-5SpqZ",
        "colab": {
          "base_uri": "https://localhost:8080/",
          "height": 51
        },
        "outputId": "945db631-8981-4cac-be10-e1a6bc14dd92"
      },
      "source": [
        "# print train and test losses and classification accuracies\n",
        "score = model.evaluate(train, label, verbose=0)\n",
        "print('Train loss:', score[0])\n",
        "print('Train accuracy:', score[1])"
      ],
      "execution_count": null,
      "outputs": [
        {
          "output_type": "stream",
          "text": [
            "Train loss: 0.19011593439322214\n",
            "Train accuracy: 0.9494141936302185\n"
          ],
          "name": "stdout"
        }
      ]
    },
    {
      "cell_type": "code",
      "metadata": {
        "id": "Y1M-ATwRSpqd",
        "colab": {
          "base_uri": "https://localhost:8080/",
          "height": 17
        },
        "outputId": "7ccf788b-7fd1-43b1-a347-b395389e53bb"
      },
      "source": [
        "Number_id = [doc['id'] for doc in testJson]\n",
        "sub = pd.DataFrame({'id': Number_id, 'cuisine': predictions}, columns=['id', 'cuisine'])\n",
        "sub.to_csv('output.csv', index=False)\n",
        "\n",
        "from google.colab import files\n",
        "files.download(\"output.csv\")"
      ],
      "execution_count": null,
      "outputs": [
        {
          "output_type": "display_data",
          "data": {
            "application/javascript": [
              "\n",
              "    async function download(id, filename, size) {\n",
              "      if (!google.colab.kernel.accessAllowed) {\n",
              "        return;\n",
              "      }\n",
              "      const div = document.createElement('div');\n",
              "      const label = document.createElement('label');\n",
              "      label.textContent = `Downloading \"${filename}\": `;\n",
              "      div.appendChild(label);\n",
              "      const progress = document.createElement('progress');\n",
              "      progress.max = size;\n",
              "      div.appendChild(progress);\n",
              "      document.body.appendChild(div);\n",
              "\n",
              "      const buffers = [];\n",
              "      let downloaded = 0;\n",
              "\n",
              "      const channel = await google.colab.kernel.comms.open(id);\n",
              "      // Send a message to notify the kernel that we're ready.\n",
              "      channel.send({})\n",
              "\n",
              "      for await (const message of channel.messages) {\n",
              "        // Send a message to notify the kernel that we're ready.\n",
              "        channel.send({})\n",
              "        if (message.buffers) {\n",
              "          for (const buffer of message.buffers) {\n",
              "            buffers.push(buffer);\n",
              "            downloaded += buffer.byteLength;\n",
              "            progress.value = downloaded;\n",
              "          }\n",
              "        }\n",
              "      }\n",
              "      const blob = new Blob(buffers, {type: 'application/binary'});\n",
              "      const a = document.createElement('a');\n",
              "      a.href = window.URL.createObjectURL(blob);\n",
              "      a.download = filename;\n",
              "      div.appendChild(a);\n",
              "      a.click();\n",
              "      div.remove();\n",
              "    }\n",
              "  "
            ],
            "text/plain": [
              "<IPython.core.display.Javascript object>"
            ]
          },
          "metadata": {
            "tags": []
          }
        },
        {
          "output_type": "display_data",
          "data": {
            "application/javascript": [
              "download(\"download_ccff6ce3-b1ae-4f6b-89f5-ffebee5878ba\", \"output.csv\", 141507)"
            ],
            "text/plain": [
              "<IPython.core.display.Javascript object>"
            ]
          },
          "metadata": {
            "tags": []
          }
        }
      ]
    }
  ]
}